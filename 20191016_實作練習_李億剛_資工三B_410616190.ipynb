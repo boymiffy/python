{
 "cells": [
  {
   "cell_type": "markdown",
   "metadata": {},
   "source": [
    "## 實作練習一"
   ]
  },
  {
   "cell_type": "code",
   "execution_count": 24,
   "metadata": {},
   "outputs": [
    {
     "name": "stdout",
     "output_type": "stream",
     "text": [
      "請輸入成績50\n",
      "丁等\n"
     ]
    }
   ],
   "source": [
    "grade=int(input(\"請輸入成績\"))\n",
    "if(grade>100 or grade<0):\n",
    "    print(\"Error\")\n",
    "elif (grade >= 90) : \n",
    "    print(\"優等\")\n",
    "elif (grade >= 80) :\n",
    "    print(\"甲等\")\n",
    "elif (grade >= 70) :\n",
    "    print(\"乙等\")\n",
    "elif (grade >= 60) :\n",
    "    print(\"丙等\")\n",
    "else : \n",
    "    print(\"丁等\")"
   ]
  },
  {
   "cell_type": "code",
   "execution_count": 25,
   "metadata": {},
   "outputs": [
    {
     "name": "stdout",
     "output_type": "stream",
     "text": [
      "請輸入正整數10\n",
      "55\n"
     ]
    }
   ],
   "source": [
    "count= int(input(\"請輸入正整數\"))\n",
    "sum = 0\n",
    "for n in range (count+1):\n",
    "    sum=sum+n\n",
    "print(sum)"
   ]
  },
  {
   "cell_type": "code",
   "execution_count": 26,
   "metadata": {},
   "outputs": [
    {
     "name": "stdout",
     "output_type": "stream",
     "text": [
      "請輸入正整數5\n",
      "1 2 3 4 "
     ]
    }
   ],
   "source": [
    "count= int(input(\"請輸入正整數\"))\n",
    "for n in range (count+1):\n",
    "    if(n%5 == 0) :\n",
    "        continue\n",
    "    print(n, end=' ')\n",
    "        \n"
   ]
  },
  {
   "cell_type": "code",
   "execution_count": null,
   "metadata": {},
   "outputs": [
    {
     "name": "stdout",
     "output_type": "stream",
     "text": [
      "請輸入正整數n的值2147483647\n"
     ]
    }
   ],
   "source": [
    "count= int(input(\"請輸入正整數n的值\"))\n",
    "sum = 1\n",
    "n=1\n",
    "while(n < count):\n",
    "    n=n+1\n",
    "    sum=sum*n\n",
    "print(count,'!=',sum)"
   ]
  },
  {
   "cell_type": "code",
   "execution_count": null,
   "metadata": {},
   "outputs": [],
   "source": []
  }
 ],
 "metadata": {
  "kernelspec": {
   "display_name": "Python 3",
   "language": "python",
   "name": "python3"
  },
  "language_info": {
   "codemirror_mode": {
    "name": "ipython",
    "version": 3
   },
   "file_extension": ".py",
   "mimetype": "text/x-python",
   "name": "python",
   "nbconvert_exporter": "python",
   "pygments_lexer": "ipython3",
   "version": "3.7.4"
  }
 },
 "nbformat": 4,
 "nbformat_minor": 2
}
